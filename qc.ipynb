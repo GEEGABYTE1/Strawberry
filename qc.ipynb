{
 "cells": [
  {
   "cell_type": "code",
   "execution_count": 6,
   "metadata": {},
   "outputs": [
    {
     "name": "stdout",
     "output_type": "stream",
     "text": [
      "Resulting String:  \n",
      "[[{'1': 'True'}, {'0': 'False'}], [{'0': 'False'}, {'1': 'True'}]]\n",
      "\n",
      "\n",
      "Resulting Bits: \n",
      "[[1, 0], [0, 1]]\n",
      "\n",
      "\n",
      "Fetched Inputs: \n",
      "[1, 0]\n",
      "\n",
      "\n",
      "Goal Parameter: \n",
      "[{1: False}, {0: True}]\n",
      "\n",
      "\n",
      "Solution: \n",
      "Updating True to False\n",
      "Updating False to True\n",
      "Updating 0 to 1\n",
      "Updating 1 to 0\n",
      "[1, 2]\n",
      "\n",
      "\n",
      "Solution in Bits: \n",
      "-----------\n",
      "['10']\n",
      "\n",
      "\n",
      "------------------------\n"
     ]
    },
    {
     "data": {
      "text/html": [
       "<pre style=\"word-wrap: normal;white-space: pre;background: #fff0;line-height: 1.1;font-family: &quot;Courier New&quot;,Courier,monospace\">        \n",
       "q_0: ─■─\n",
       "      │ \n",
       "q_1: ─■─\n",
       "        </pre>"
      ],
      "text/plain": [
       "        \n",
       "q_0: ─■─\n",
       "      │ \n",
       "q_1: ─■─\n",
       "        "
      ]
     },
     "execution_count": 6,
     "metadata": {},
     "output_type": "execute_result"
    }
   ],
   "source": [
    "from schoning import test\n",
    "from qiskit import QuantumCircuit\n",
    "oracle_lst = test.experiment()\n",
    "oracle = QuantumCircuit(2)\n",
    "\n",
    "\n",
    "print('-----------')\n",
    "print(oracle_lst)\n",
    "print('\\n')\n",
    "print('-'*24)\n",
    "\n",
    "string_split = []\n",
    "for string in oracle_lst:\n",
    "    for letter in string:\n",
    "        string_split.append(int(letter))\n",
    "\n",
    "oracle.cz(string_split[0], string_split[-1])\n",
    "oracle.draw()\n",
    "    \n",
    "\n",
    "\n",
    "\n"
   ]
  },
  {
   "cell_type": "code",
   "execution_count": 7,
   "metadata": {},
   "outputs": [
    {
     "data": {
      "text/html": [
       "<pre style=\"word-wrap: normal;white-space: pre;background: #fff0;line-height: 1.1;font-family: &quot;Courier New&quot;,Courier,monospace\">     ┌───┐┌───┐   ┌───┐┌───┐\n",
       "q_0: ┤ H ├┤ X ├─■─┤ X ├┤ H ├\n",
       "     ├───┤├───┤ │ ├───┤├───┤\n",
       "q_1: ┤ H ├┤ X ├─■─┤ X ├┤ H ├\n",
       "     └───┘└───┘   └───┘└───┘</pre>"
      ],
      "text/plain": [
       "     ┌───┐┌───┐   ┌───┐┌───┐\n",
       "q_0: ┤ H ├┤ X ├─■─┤ X ├┤ H ├\n",
       "     ├───┤├───┤ │ ├───┤├───┤\n",
       "q_1: ┤ H ├┤ X ├─■─┤ X ├┤ H ├\n",
       "     └───┘└───┘   └───┘└───┘"
      ]
     },
     "execution_count": 7,
     "metadata": {},
     "output_type": "execute_result"
    }
   ],
   "source": [
    "\n",
    "diffuser = QuantumCircuit(2)\n",
    "diffuser.h([0, 1])\n",
    "diffuser.x([0, 1])\n",
    "diffuser.draw()\n",
    "\n",
    "diffuser.cz(0, 1)\n",
    "diffuser.x([0, 1])\n",
    "diffuser.h([0, 1])\n",
    "diffuser.draw()"
   ]
  },
  {
   "cell_type": "code",
   "execution_count": 8,
   "metadata": {},
   "outputs": [
    {
     "data": {
      "text/html": [
       "<pre style=\"word-wrap: normal;white-space: pre;background: #fff0;line-height: 1.1;font-family: &quot;Courier New&quot;,Courier,monospace\">        ┌───┐   ┌───┐┌───┐   ┌───┐┌───┐ ░ ┌─┐   \n",
       "   q_0: ┤ H ├─■─┤ H ├┤ X ├─■─┤ X ├┤ H ├─░─┤M├───\n",
       "        ├───┤ │ ├───┤├───┤ │ ├───┤├───┤ ░ └╥┘┌─┐\n",
       "   q_1: ┤ H ├─■─┤ H ├┤ X ├─■─┤ X ├┤ H ├─░──╫─┤M├\n",
       "        └───┘   └───┘└───┘   └───┘└───┘ ░  ║ └╥┘\n",
       "meas: 2/═══════════════════════════════════╩══╩═\n",
       "                                           0  1 </pre>"
      ],
      "text/plain": [
       "        ┌───┐   ┌───┐┌───┐   ┌───┐┌───┐ ░ ┌─┐   \n",
       "   q_0: ┤ H ├─■─┤ H ├┤ X ├─■─┤ X ├┤ H ├─░─┤M├───\n",
       "        ├───┤ │ ├───┤├───┤ │ ├───┤├───┤ ░ └╥┘┌─┐\n",
       "   q_1: ┤ H ├─■─┤ H ├┤ X ├─■─┤ X ├┤ H ├─░──╫─┤M├\n",
       "        └───┘   └───┘└───┘   └───┘└───┘ ░  ║ └╥┘\n",
       "meas: 2/═══════════════════════════════════╩══╩═\n",
       "                                           0  1 "
      ]
     },
     "execution_count": 8,
     "metadata": {},
     "output_type": "execute_result"
    }
   ],
   "source": [
    "grover = QuantumCircuit(2)\n",
    "grover.h([0, 1])\n",
    "grover = grover.compose(oracle)\n",
    "grover = grover.compose(diffuser)\n",
    "grover.measure_all()\n",
    "grover.draw()"
   ]
  },
  {
   "cell_type": "code",
   "execution_count": null,
   "metadata": {},
   "outputs": [],
   "source": []
  }
 ],
 "metadata": {
  "interpreter": {
   "hash": "aee8b7b246df8f9039afb4144a1f6fd8d2ca17a180786b69acc140d282b71a49"
  },
  "kernelspec": {
   "display_name": "Python 3.9.10 64-bit",
   "language": "python",
   "name": "python3"
  },
  "language_info": {
   "codemirror_mode": {
    "name": "ipython",
    "version": 3
   },
   "file_extension": ".py",
   "mimetype": "text/x-python",
   "name": "python",
   "nbconvert_exporter": "python",
   "pygments_lexer": "ipython3",
   "version": "3.9.10"
  },
  "orig_nbformat": 4
 },
 "nbformat": 4,
 "nbformat_minor": 2
}
