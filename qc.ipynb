{
 "cells": [
  {
   "cell_type": "code",
   "execution_count": 1,
   "metadata": {},
   "outputs": [
    {
     "name": "stdout",
     "output_type": "stream",
     "text": [
      "Resulting String:  \n",
      "[[{'0': 'True'}, {'1': 'False'}], [{'1': 'True'}, {'0': 'True'}]]\n",
      "\n",
      "\n",
      "Resulting Bits: \n",
      "[[1, 0], [1, 1]]\n",
      "\n",
      "\n",
      "Fetched Inputs: \n",
      "[0, 1]\n",
      "\n",
      "\n",
      "Goal Parameter: \n",
      "[{0: True}, {1: False}]\n",
      "\n",
      "\n",
      "Solution: \n",
      "Updating 1 to 0\n",
      "[1]\n",
      "\n",
      "\n",
      "Solution in Bits: \n",
      "['00']\n",
      "None\n"
     ]
    }
   ],
   "source": [
    "from schoning import test\n",
    "universal_schoning_output = test.experiment()\n",
    "print(universal_schoning_output)"
   ]
  }
 ],
 "metadata": {
  "interpreter": {
   "hash": "aee8b7b246df8f9039afb4144a1f6fd8d2ca17a180786b69acc140d282b71a49"
  },
  "kernelspec": {
   "display_name": "Python 3.9.10 64-bit",
   "language": "python",
   "name": "python3"
  },
  "language_info": {
   "codemirror_mode": {
    "name": "ipython",
    "version": 3
   },
   "file_extension": ".py",
   "mimetype": "text/x-python",
   "name": "python",
   "nbconvert_exporter": "python",
   "pygments_lexer": "ipython3",
   "version": "3.9.10"
  },
  "orig_nbformat": 4
 },
 "nbformat": 4,
 "nbformat_minor": 2
}
